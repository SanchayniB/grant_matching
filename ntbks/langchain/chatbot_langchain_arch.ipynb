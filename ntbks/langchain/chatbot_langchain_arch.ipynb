{
 "cells": [
  {
   "cell_type": "code",
   "execution_count": null,
   "metadata": {},
   "outputs": [],
   "source": [
    "# Setup Firebase Firestore\n",
    "PROJECT_ID = \"langchain-6fab8\"\n",
    "SESSION_ID = \"user_session_new\"  # This could be a username or a unique ID\n",
    "COLLECTION_NAME = \"chat_history\"\n",
    "SERVICE_ACCOUNT_NAME = \"llmservice\""
   ]
  },
  {
   "cell_type": "code",
   "execution_count": null,
   "metadata": {},
   "outputs": [],
   "source": [
    "# gcloud iam service-accounts create llmservice\n",
    "\n",
    "# gcloud projects add-iam-policy-binding \n",
    "# langchain-6fab8 --member=\"serviceAccount:llmservice@langchain-6fab8.iam.gserviceaccount.com\" --role=roles/admin"
   ]
  }
 ],
 "metadata": {
  "kernelspec": {
   "display_name": "llm",
   "language": "python",
   "name": "python3"
  },
  "language_info": {
   "name": "python",
   "version": "3.13.2"
  }
 },
 "nbformat": 4,
 "nbformat_minor": 2
}
