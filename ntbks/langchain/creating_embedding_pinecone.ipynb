{
 "cells": [
  {
   "cell_type": "code",
   "execution_count": 2,
   "metadata": {},
   "outputs": [],
   "source": [
    "# !pip install pinecone"
   ]
  },
  {
   "cell_type": "code",
   "execution_count": 20,
   "metadata": {},
   "outputs": [],
   "source": [
    "import os\n",
    "from dotenv import load_dotenv\n",
    "from pathlib import Path\n",
    "from pinecone import Pinecone, ServerlessSpec\n",
    "\n",
    "dotenv_path = Path('/Users/sanchaynibagade/Documents/github/grant_matching/env/llm.env')\n",
    "load_dotenv(dotenv_path=dotenv_path)\n",
    "MY_KEY = os.getenv('PINECONE_KEY')\n"
   ]
  },
  {
   "cell_type": "code",
   "execution_count": 4,
   "metadata": {},
   "outputs": [],
   "source": [
    "pc = Pinecone(api_key=MY_KEY)"
   ]
  },
  {
   "cell_type": "code",
   "execution_count": null,
   "metadata": {},
   "outputs": [
    {
     "data": {
      "text/plain": [
       "{'upserted_count': 4}"
      ]
     },
     "execution_count": 6,
     "metadata": {},
     "output_type": "execute_result"
    }
   ],
   "source": [
    "# # To get the unique host for an index, \n",
    "# # see https://docs.pinecone.io/guides/data/target-an-index\n",
    "# index = pc.Index(host=\"https://testembedding-jk789yn.svc.aped-4627-b74a.pinecone.io\")\n",
    "\n",
    "# index.upsert(\n",
    "#   vectors=[\n",
    "#     {\n",
    "#       \"id\": \"A\", \n",
    "#       \"values\": [0.1, 0.1, 0.1, 0.1, 0.1, 0.1, 0.1, 0.1], \n",
    "#       \"metadata\": {\"genre\": \"comedy\", \"year\": 2020}\n",
    "#     },\n",
    "#     {\n",
    "#       \"id\": \"B\", \n",
    "#       \"values\": [0.2, 0.2, 0.2, 0.2, 0.2, 0.2, 0.2, 0.2],\n",
    "#       \"metadata\": {\"genre\": \"documentary\", \"year\": 2019}\n",
    "#     },\n",
    "#     {\n",
    "#       \"id\": \"C\", \n",
    "#       \"values\": [0.3, 0.3, 0.3, 0.3, 0.3, 0.3, 0.3, 0.3],\n",
    "#       \"metadata\": {\"genre\": \"comedy\", \"year\": 2019}\n",
    "#     },\n",
    "#     {\n",
    "#       \"id\": \"D\", \n",
    "#       \"values\": [0.4, 0.4, 0.4, 0.4, 0.4, 0.4, 0.4, 0.4],\n",
    "#       \"metadata\": {\"genre\": \"drama\"}\n",
    "#     }\n",
    "#   ],\n",
    "#   namespace=\"test-namespace\"\n",
    "# )"
   ]
  },
  {
   "cell_type": "markdown",
   "metadata": {},
   "source": [
    "## Generating Embeddings"
   ]
  },
  {
   "cell_type": "code",
   "execution_count": null,
   "metadata": {},
   "outputs": [],
   "source": [
    "from langchain_ollama import OllamaEmbeddings\n",
    "import pandas as pd"
   ]
  },
  {
   "cell_type": "code",
   "execution_count": null,
   "metadata": {},
   "outputs": [],
   "source": [
    "df = pd.read_csv(\"../../data/realistic_restaurant_reviews.csv\")\n",
    "embeddings = OllamaEmbeddings(model=\"mxbai-embed-large\")"
   ]
  },
  {
   "cell_type": "code",
   "execution_count": 23,
   "metadata": {},
   "outputs": [],
   "source": [
    "pc = Pinecone(api_key=MY_KEY)\n",
    "index = pc.Index(host=\"https://restuarantdata-jk789yn.svc.aped-4627-b74a.pinecone.io\")"
   ]
  },
  {
   "cell_type": "code",
   "execution_count": 43,
   "metadata": {},
   "outputs": [],
   "source": [
    "vectors = []\n",
    "\n",
    "for i, row in df.iterrows():\n",
    "    text_to_embedd = row[\"Title\"] + \" \" + row[\"Review\"]\n",
    "    metadata= {\"rating\": row[\"Rating\"], \"date\": row[\"Date\"], \"chunk_text\": text_to_embedd}\n",
    "    id=str(i)\n",
    "    \n",
    "    embedds = embeddings.embed_query(text_to_embedd)\n",
    "\n",
    "    vec = {\n",
    "             \"id\": id,\n",
    "             \"values\": embedds,\n",
    "             \"metadata\": metadata\n",
    "            }\n",
    "    vectors.append(vec)\n"
   ]
  },
  {
   "cell_type": "code",
   "execution_count": 44,
   "metadata": {},
   "outputs": [
    {
     "data": {
      "text/plain": [
       "{'upserted_count': 123}"
      ]
     },
     "execution_count": 44,
     "metadata": {},
     "output_type": "execute_result"
    }
   ],
   "source": [
    "index.upsert(vectors=vectors,\n",
    "             namespace=\"restuarant-data\"\n",
    "             )"
   ]
  },
  {
   "cell_type": "markdown",
   "metadata": {},
   "source": [
    "## Semantic Search on the embeddings"
   ]
  },
  {
   "cell_type": "code",
   "execution_count": 76,
   "metadata": {},
   "outputs": [],
   "source": [
    "results = index.search(\n",
    "    namespace=\"restuarant-data\",\n",
    "    query={\n",
    "        \"inputs\": {\"text\": \"How is the ambience of the restuarant?\"}, \n",
    "        \"top_k\": 5\n",
    "    },\n",
    "    fields=[\"chunk_text\",\"Rating\"]\n",
    ")"
   ]
  },
  {
   "cell_type": "code",
   "execution_count": 77,
   "metadata": {},
   "outputs": [
    {
     "data": {
      "text/plain": [
       "[{'_id': '65',\n",
       "  '_score': 0.042206134647130966,\n",
       "  'fields': {'chunk_text': 'Too much garlic I love garlic but this was '\n",
       "                           'excessive - felt like they mistook cloves for '\n",
       "                           'teaspoons in the recipe. My breath was lethal '\n",
       "                           'afterward, and the powerful flavor overwhelmed the '\n",
       "                           'other ingredients.'}},\n",
       " {'_id': '79',\n",
       "  '_score': 0.041884519159793854,\n",
       "  'fields': {'chunk_text': 'Lackluster veggie options Their vegetable toppings '\n",
       "                           'lacked freshness and flavor - the mushrooms were '\n",
       "                           'clearly canned, the peppers were soft and faded, '\n",
       "                           'and the onions were sparse. Disappointing for a '\n",
       "                           'place that advertises farm-fresh ingredients.'}},\n",
       " {'_id': '49',\n",
       "  '_score': 0.037499189376831055,\n",
       "  'fields': {'chunk_text': 'Refrigerated dough taste The crust had that '\n",
       "                           \"distinctive 'refrigerator' taste that comes from \"\n",
       "                           \"dough that's been sitting around too long. Fresh \"\n",
       "                           'dough has a sweet, yeasty flavor - this had none of '\n",
       "                           'that. Clearly not made fresh daily as advertised.'}},\n",
       " {'_id': '16',\n",
       "  '_score': 0.03644312173128128,\n",
       "  'fields': {'chunk_text': \"Inconsistent quality I've been here three times. \"\n",
       "                           'First visit: amazing. Second: terrible. Third: just '\n",
       "                           \"okay. Seems like it really depends on who's working \"\n",
       "                           'that day. Wish they could maintain better quality '\n",
       "                           'control.'}},\n",
       " {'_id': '10',\n",
       "  '_score': 0.03330494090914726,\n",
       "  'fields': {'chunk_text': \"Spicy special was too much Their 'Firebreather' \"\n",
       "                           \"pizza should come with a warning label. It wasn't \"\n",
       "                           'enjoyably spicy - it was painfully hot to the point '\n",
       "                           \"where I couldn't taste anything else. Had to throw \"\n",
       "                           'most of it away.'}}]"
      ]
     },
     "execution_count": 77,
     "metadata": {},
     "output_type": "execute_result"
    }
   ],
   "source": [
    "results['result']['hits']"
   ]
  },
  {
   "cell_type": "code",
   "execution_count": 73,
   "metadata": {},
   "outputs": [],
   "source": [
    "query_text = \"How is the ambience of the restuarant?\"\n",
    "query_embedds = embeddings.embed_query(query_text)\n",
    "results = index.query(\n",
    "    namespace=\"restuarant-data\",\n",
    "    vector=query_embedds,\n",
    "    include_metadata=True,\n",
    "    top_k=3\n",
    "    \n",
    ")"
   ]
  },
  {
   "cell_type": "code",
   "execution_count": 74,
   "metadata": {},
   "outputs": [
    {
     "data": {
      "text/plain": [
       "[{'id': '8',\n",
       "  'metadata': {'chunk_text': 'Mediocre at best Nothing terrible but nothing '\n",
       "                             'special either. The crust was okay, toppings were '\n",
       "                             \"standard, and service was fine. It's the kind of \"\n",
       "                             \"place you go when you're in the area, but \"\n",
       "                             \"wouldn't make a special trip for.\",\n",
       "               'date': '2024-03-05',\n",
       "               'rating': 3.0},\n",
       "  'score': 0.63597697,\n",
       "  'values': []},\n",
       " {'id': '18',\n",
       "  'metadata': {'chunk_text': 'Too noisy for conversation The pizza was good - I '\n",
       "                             'especially liked their sausage and mushroom '\n",
       "                             'combination - but the restaurant is like an echo '\n",
       "                             \"chamber. Couldn't hear my date across the table. \"\n",
       "                             'Better as a takeout option.',\n",
       "               'date': '2024-01-30',\n",
       "               'rating': 3.0},\n",
       "  'score': 0.624991775,\n",
       "  'values': []},\n",
       " {'id': '12',\n",
       "  'metadata': {'chunk_text': 'Dirty restaurant I was shocked at the state of '\n",
       "                             'this place. Tables were sticky, floors were '\n",
       "                             'dirty, and I could see into the kitchen which '\n",
       "                             \"didn't look any better. Couldn't enjoy my pizza \"\n",
       "                             'as I was too concerned about hygiene standards.',\n",
       "               'date': '2024-01-20',\n",
       "               'rating': 1.0},\n",
       "  'score': 0.621907115,\n",
       "  'values': []}]"
      ]
     },
     "execution_count": 74,
     "metadata": {},
     "output_type": "execute_result"
    }
   ],
   "source": [
    "results['matches']"
   ]
  },
  {
   "cell_type": "code",
   "execution_count": null,
   "metadata": {},
   "outputs": [],
   "source": []
  }
 ],
 "metadata": {
  "kernelspec": {
   "display_name": "llm",
   "language": "python",
   "name": "python3"
  },
  "language_info": {
   "codemirror_mode": {
    "name": "ipython",
    "version": 3
   },
   "file_extension": ".py",
   "mimetype": "text/x-python",
   "name": "python",
   "nbconvert_exporter": "python",
   "pygments_lexer": "ipython3",
   "version": "3.13.2"
  }
 },
 "nbformat": 4,
 "nbformat_minor": 2
}
