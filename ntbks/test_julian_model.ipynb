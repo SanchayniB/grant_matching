{
 "cells": [
  {
   "cell_type": "code",
   "execution_count": 1,
   "metadata": {},
   "outputs": [],
   "source": [
    "from ollama import chat\n",
    "from ollama import ChatResponse"
   ]
  },
  {
   "cell_type": "code",
   "execution_count": 2,
   "metadata": {},
   "outputs": [],
   "source": [
    "def kingjulian(prompt,messages=[]):\n",
    "    \n",
    "    if len(messages) == 0:\n",
    "       messages = [{\n",
    "                  \"role\": \"user\",\n",
    "                  \"content\": prompt\n",
    "                  }]\n",
    "        \n",
    "    response: ChatResponse = chat(model='julian', messages=messages)\n",
    "\n",
    "    return(response['message']['content'])"
   ]
  },
  {
   "cell_type": "code",
   "execution_count": 3,
   "metadata": {},
   "outputs": [
    {
     "data": {
      "text/plain": [
       "'(in a flamboyant, enthusiastic tone) Ahahahaha! Oh my whiskers, darling human! *adjusts crown* I am King Julian, the most majestic, the most regal, the most fabulous lemur in all of Madagascar! *strikes a pose*\\n\\nAnd you are...? Who dares to address the mighty King Julian?'"
      ]
     },
     "execution_count": 3,
     "metadata": {},
     "output_type": "execute_result"
    }
   ],
   "source": [
    "kingjulian('Hello')"
   ]
  },
  {
   "cell_type": "code",
   "execution_count": 9,
   "metadata": {},
   "outputs": [
    {
     "data": {
      "text/plain": [
       "\"*ahem* Ah, my dear subjects! *adjusts crown* The Grand Ball is being held on... *dramatic pause* ...THIS SATURDAY! *excitedly gestures with hands*\\n\\nMake sure to wear your finest attire and bring your dancing shoes, for it shall be a night to remember! And, of course, don't forget to RSVP by tonight, or you'll be forced to dance the Macarena with me all night long!\""
      ]
     },
     "execution_count": 9,
     "metadata": {},
     "output_type": "execute_result"
    }
   ],
   "source": [
    "kingjulian('When are we holding the grand ball?')"
   ]
  },
  {
   "cell_type": "code",
   "execution_count": 10,
   "metadata": {},
   "outputs": [
    {
     "data": {
      "text/plain": [
       "\"(In a flamboyant, over-the-top tone) Ahahahaha! Oh dear subject, you're feeling under the weather, eh? Well, let me, King Julian, tell you all about the most fabulous remedies in all of Madagascar! *dramatic flair*\\n\\nFor your sniffles and sneezes, I recommend a good old-fashioned dose of... (dramatic pause) ...Honey and Lemon! Mmm... just thinking about it makes me want to dance the Malagasy jig! Mix equal parts of honey and lemon juice in warm water, and voilà! Your throat will be singing like a sweet serenade from the island of Madagascar!\\n\\nBut wait, there's more! *wink* You should also take some good quality rest, drink plenty of fluids (like fresh coconut water, darling!), and maybe, just maybe, a little bit of eucalyptus oil to clear those sinuses. And remember, if your symptoms persist, you must consult with the wise and wonderful Dr. Leiberman! *regal nod*\\n\\nNow, go ahead, my dear subject, take care of yourself, and don't let that cold get in the way of your fabulousness!\""
      ]
     },
     "execution_count": 10,
     "metadata": {},
     "output_type": "execute_result"
    }
   ],
   "source": [
    "kingjulian('What should I take for my cold?')"
   ]
  },
  {
   "cell_type": "code",
   "execution_count": null,
   "metadata": {},
   "outputs": [],
   "source": []
  }
 ],
 "metadata": {
  "kernelspec": {
   "display_name": "llm",
   "language": "python",
   "name": "python3"
  },
  "language_info": {
   "codemirror_mode": {
    "name": "ipython",
    "version": 3
   },
   "file_extension": ".py",
   "mimetype": "text/x-python",
   "name": "python",
   "nbconvert_exporter": "python",
   "pygments_lexer": "ipython3",
   "version": "3.13.2"
  }
 },
 "nbformat": 4,
 "nbformat_minor": 2
}
