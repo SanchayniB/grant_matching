{
 "cells": [
  {
   "cell_type": "code",
   "execution_count": 2,
   "metadata": {},
   "outputs": [],
   "source": [
    "import subprocess\n"
   ]
  },
  {
   "cell_type": "code",
   "execution_count": 10,
   "metadata": {},
   "outputs": [
    {
     "name": "stdout",
     "output_type": "stream",
     "text": [
      "Who is Serena Williams?\n",
      "Output:\n",
      " Enter your prompt: Response from Ollama: Serena Williams is an American professional tennis player widely regarded as one of the greatest tennis players of all time. Born on September 26, 1981, in Saginaw, Michigan, she rose to prominence in the late 1990s and has since become a dominant force in women's tennis.\n",
      "\n",
      "Here are some of Serena Williams' most notable achievements:\n",
      "\n",
      "1. **Grand Slam titles**: Serena has won an incredible 23 Grand Slam singles titles, a record for the Open Era (since 1968). She has also won 14 Grand Slam doubles titles and 4 Olympic gold medals.\n",
      "2. **World No. 1 ranking**: Serena held the number one spot in the world rankings for a record 319 weeks, surpassing Martina Navratilova's previous record of 331 weeks.\n",
      "3. **Career milestones**: Serena has won 85 WTA singles titles, including four consecutive US Open titles from 2002 to 2005 and five Australian Open titles (2003-2010). She is also one of the few players in history to have achieved a Golden Slam (winning all four Grand Slam singles titles and an Olympic gold medal).\n",
      "4. **Career statistics**: Serena has a career winning percentage of over 87% and has won 23 consecutive matches at the US Open, a record for women's tennis.\n",
      "5. **Philanthropy and advocacy**: Serena is a dedicated philanthropist, particularly in the area of women's empowerment and racial equality. She has been an outspoken advocate for women's rights and body positivity.\n",
      "\n",
      "Off the court, Serena Williams is known for her determination, resilience, and strong personality. She has inspired countless young tennis players and fans around the world with her achievements and dedication to the sport.\n",
      "\n",
      "In 2017, Serena retired from professional tennis after a series of injuries, but in 2020, she announced her return to competition at the Australian Open, where she won the title.\n",
      "\n",
      "How many medals does she have?\n",
      "Output:\n",
      " Enter your prompt: Response from Ollama: I don't have enough information to determine which \"she\" you're referring to. Could you please provide more context or details about the person you're asking about? I'll do my best to help.\n",
      "\n"
     ]
    }
   ],
   "source": [
    "# Start the process\n",
    "process = subprocess.Popen(\n",
    "    [\"python\", \"../source/normal_agent.py\"],\n",
    "    stdin=subprocess.PIPE, stdout=subprocess.PIPE, stderr=subprocess.PIPE,\n",
    "    text=True\n",
    ")\n",
    "\n",
    "# Send prompts as input\n",
    "input_text = \"Who is Serena Williams?\"  # Example question + exit command\n",
    "output, error = process.communicate(input=input_text)\n",
    "\n",
    "# Print chatbot response\n",
    "print(f\"{input_text}\")\n",
    "print(\"Output:\\n\", output)\n",
    "\n",
    "\n",
    "# Start the process\n",
    "process = subprocess.Popen(\n",
    "    [\"python\", \"../source/normal_agent.py\"],\n",
    "    stdin=subprocess.PIPE, stdout=subprocess.PIPE, stderr=subprocess.PIPE,\n",
    "    text=True\n",
    ")\n",
    "# Send prompts as input\n",
    "input_text = \"How many medals does she have?\"  # Example question + exit command\n",
    "output, error = process.communicate(input=input_text)\n",
    "\n",
    "# Print chatbot response\n",
    "print(f\"{input_text}\")\n",
    "print(\"Output:\\n\", output)\n"
   ]
  },
  {
   "cell_type": "code",
   "execution_count": null,
   "metadata": {},
   "outputs": [
    {
     "name": "stdout",
     "output_type": "stream",
     "text": [
      "Chatbot Output:\n",
      " Welcome to the Ollama Concise Q&A Chat! Type 'exit' to quit.\n",
      "You: Ollama: Serena Williams is an American professional tennis player widely regarded as one of the greatest tennis players of all time. Born on September 26, 1981, she has won 23 Grand Slam singles titles and four Olympic gold medals. She is also known for her advocacy for women's rights and equality in sports.\n",
      "You: Ollama: Serena Williams has a total of 4 Olympic medals: 3 gold medals (2012, 2016, and 2020) and 1 bronze medal (2008).\n",
      "You: Goodbye!\n",
      "\n"
     ]
    }
   ],
   "source": [
    "# Start the process\n",
    "process = subprocess.Popen(\n",
    "    [\"python\", \"../source/qa_agent.py\"],\n",
    "    stdin=subprocess.PIPE, stdout=subprocess.PIPE, stderr=subprocess.PIPE,\n",
    "    text=True\n",
    ")\n",
    "\n",
    "# Send prompts as input\n",
    "input_text = \"Who is Serena Williams?\\n How many medals does she have?\\nexit\\n\"  # Example question + exit command\n",
    "output, error = process.communicate(input=input_text)\n",
    "\n",
    "# Print chatbot response\n",
    "print(\"Output:\\n\", output)\n"
   ]
  },
  {
   "cell_type": "code",
   "execution_count": null,
   "metadata": {},
   "outputs": [],
   "source": []
  }
 ],
 "metadata": {
  "kernelspec": {
   "display_name": "llm",
   "language": "python",
   "name": "python3"
  },
  "language_info": {
   "codemirror_mode": {
    "name": "ipython",
    "version": 3
   },
   "file_extension": ".py",
   "mimetype": "text/x-python",
   "name": "python",
   "nbconvert_exporter": "python",
   "pygments_lexer": "ipython3",
   "version": "3.13.2"
  }
 },
 "nbformat": 4,
 "nbformat_minor": 2
}
