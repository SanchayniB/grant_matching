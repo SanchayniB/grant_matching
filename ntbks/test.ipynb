{
 "cells": [
  {
   "cell_type": "code",
   "execution_count": 27,
   "metadata": {},
   "outputs": [],
   "source": [
    "import requests\n",
    "import json"
   ]
  },
  {
   "cell_type": "code",
   "execution_count": 28,
   "metadata": {},
   "outputs": [
    {
     "name": "stdout",
     "output_type": "stream",
     "text": [
      "The given link is a page on IMDB (Internet Movie Database) for a movie or TV show. Let's parse the content of this page:\n",
      "\n",
      "Title: \"Doom Patrol\"\n",
      "Type: Series\n",
      "Status: Active\n",
      "Number of seasons: 3\n",
      "\n",
      "As we scroll down, we can see information about the creators and cast.\n",
      "\n",
      "**Creator:**\n",
      "\n",
      "The value associated with Creator is:\n",
      "* Ian McShane\n",
      "* Jeremy Davies\n",
      "* Will Patton\n",
      "* J.J. Phelps\n",
      "* Tim Schelle\n"
     ]
    }
   ],
   "source": [
    "from ollama import chat\n",
    "from ollama import ChatResponse\n",
    "\n",
    "response: ChatResponse = chat(model='llama3.2', messages=[\n",
    "  {\n",
    "    'role': 'user',\n",
    "    'content': 'Parse the content of following link -https://www.imdb.com/title/tt11680642/?ref_=tturv_ov \\\n",
    "                 and identify the value associated with Creator?',\n",
    "  },\n",
    "])\n",
    "print(response['message']['content'])"
   ]
  },
  {
   "cell_type": "markdown",
   "metadata": {},
   "source": [
    "### It hallucinated - the creator of the series Pantheon is not Paul W.S. Anderson, but he is a sci-fi writer "
   ]
  },
  {
   "cell_type": "code",
   "execution_count": 29,
   "metadata": {},
   "outputs": [],
   "source": [
    "def llama3(prompt,messages=[]):\n",
    "    \n",
    "    if len(messages) == 0:\n",
    "       messages = [{\n",
    "                  \"role\": \"user\",\n",
    "                  \"content\": prompt\n",
    "                  }]\n",
    "        \n",
    "    response: ChatResponse = chat(model='llama3.2', messages=messages)\n",
    "\n",
    "    return(response['message']['content'])"
   ]
  },
  {
   "cell_type": "code",
   "execution_count": 30,
   "metadata": {},
   "outputs": [
    {
     "data": {
      "text/plain": [
       "'The ending of the first part of Dune, titled \"Dune Part One\", is a relatively hopeful and optimistic one. After Paul Atreides (played by Timothée Chalamet) and his mother Lady Jessica (played by Rebecca Ferguson) escape from the Harkonnens on Arrakis after being betrayed and attacked, they flee to the planet Caladan.\\n\\nPaul uses his prescience abilities to manipulate events and set in motion a chain of actions that will ultimately lead to his father Leto\\'s death at the hands of Stilgar\\'s warrior group. However, this is not a direct result of Paul\\'s action but rather part of the original plan set by Duncan Idaho.\\n\\nOnce on Caladan, Lady Jessica uses her Bene Gesserit training to teach Paul the ways of the Bene Gesserit sisterhood and to help him understand his own abilities as a messiah figure in the Fremen religion.\\n\\nThe film ends with Paul, now more determined than ever to fulfill his destiny and lead the Fremen in their fight against the ruling powers on Arrakis. He is seen walking away from Caladan towards the planet Arrakis, ready to begin his journey and face the challenges ahead.'"
      ]
     },
     "execution_count": 30,
     "metadata": {},
     "output_type": "execute_result"
    }
   ],
   "source": [
    "llama3(prompt = 'How does Dune 1 end?')"
   ]
  },
  {
   "cell_type": "markdown",
   "metadata": {},
   "source": [
    "### Did a good job"
   ]
  },
  {
   "cell_type": "code",
   "execution_count": 32,
   "metadata": {},
   "outputs": [
    {
     "name": "stdout",
     "output_type": "stream",
     "text": [
      "Weather refers to the state of the atmosphere at a particular place and time, including temperature, humidity, cloudiness, wind, precipitation, and other meteorological conditions.\n",
      "\n",
      "To describe the current weather, I would need more information about your location. Can you please tell me where you are or what city you are referring to?\n",
      "\n"
     ]
    }
   ],
   "source": [
    "messages = [\n",
    "  {\n",
    "    'role': 'user',\n",
    "    'content': 'Why is the sky blue?',\n",
    "  },\n",
    "  {\n",
    "    'role': 'assistant',\n",
    "    'content': \"The sky is blue because of the way the Earth's atmosphere scatters sunlight.\",\n",
    "  },\n",
    "  {\n",
    "    'role': 'user',\n",
    "    'content': 'What is the weather in Tokyo?',\n",
    "  },\n",
    "  {\n",
    "    'role': 'assistant',\n",
    "    'content': 'The weather in Tokyo is typically warm and humid during the summer months, with temperatures often exceeding 30°C (86°F). The city experiences a rainy season from June to September, with heavy rainfall and occasional typhoons. Winter is mild, with temperatures rarely dropping below freezing. The city is known for its high-tech and vibrant culture, with many popular tourist attractions such as the Tokyo Tower, Senso-ji Temple, and the bustling Shibuya district.',\n",
    "  },\n",
    "]\n",
    "\n",
    "  \n",
    "user_input = input('Chat with history: ')\n",
    "response = chat(\n",
    "'llama3.2',\n",
    "messages=messages\n",
    "+ [\n",
    "    {'role': 'user', 'content': user_input},\n",
    "],\n",
    ")\n",
    "# Add the response to the messages to maintain the history\n",
    "messages += [\n",
    "{'role': 'user', 'content': user_input},\n",
    "{'role': 'assistant', 'content': response.message.content},\n",
    "]\n",
    "print(response.message.content + '\\n')"
   ]
  },
  {
   "cell_type": "code",
   "execution_count": 13,
   "metadata": {},
   "outputs": [],
   "source": [
    "#!pip install langchain\n",
    "#!pip install langchain-ollama"
   ]
  },
  {
   "cell_type": "code",
   "execution_count": null,
   "metadata": {},
   "outputs": [
    {
     "name": "stdout",
     "output_type": "stream",
     "text": [
      "The book \"The Godfather\" was written by Mario Puzo. It was published in 1969 and became a bestseller, eventually being adapted into a film directed by Francis Ford Coppola in 1972. The novel is considered one of the greatest American novels of the 20th century and has had a significant impact on popular culture.\n",
      "\n",
      "Mario Puzo (1920-1999) was an Italian-American author, screenwriter, and producer. He is best known for his novels about organized crime, including \"The Godfather\" and its sequel \"The Godfather: Part II\".\n"
     ]
    }
   ],
   "source": [
    "from langchain_ollama import ChatOllama\n",
    "\n",
    "llm = ChatOllama(model=\"llama3.2\", temperature=0)\n",
    "response = llm.invoke(\"what is your ta?\")\n",
    "print(response.content)"
   ]
  },
  {
   "cell_type": "code",
   "execution_count": null,
   "metadata": {},
   "outputs": [],
   "source": []
  }
 ],
 "metadata": {
  "kernelspec": {
   "display_name": "llm",
   "language": "python",
   "name": "python3"
  },
  "language_info": {
   "codemirror_mode": {
    "name": "ipython",
    "version": 3
   },
   "file_extension": ".py",
   "mimetype": "text/x-python",
   "name": "python",
   "nbconvert_exporter": "python",
   "pygments_lexer": "ipython3",
   "version": "3.13.2"
  }
 },
 "nbformat": 4,
 "nbformat_minor": 2
}
